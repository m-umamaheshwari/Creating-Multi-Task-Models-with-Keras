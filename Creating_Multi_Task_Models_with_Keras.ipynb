{
  "nbformat": 4,
  "nbformat_minor": 0,
  "metadata": {
    "colab": {
      "private_outputs": true,
      "provenance": [],
      "gpuType": "T4",
      "authorship_tag": "ABX9TyNNq2OXJddWqUfng4NhFb7O",
      "include_colab_link": true
    },
    "kernelspec": {
      "name": "python3",
      "display_name": "Python 3"
    },
    "language_info": {
      "name": "python"
    },
    "accelerator": "GPU"
  },
  "cells": [
    {
      "cell_type": "markdown",
      "metadata": {
        "id": "view-in-github",
        "colab_type": "text"
      },
      "source": [
        "<a href=\"https://colab.research.google.com/github/m-umamaheshwari/Creating-Multi-Task-Models-with-Keras/blob/main/Creating_Multi_Task_Models_with_Keras.ipynb\" target=\"_parent\"><img src=\"https://colab.research.google.com/assets/colab-badge.svg\" alt=\"Open In Colab\"/></a>"
      ]
    },
    {
      "cell_type": "code",
      "source": [
        "%matplotlib inline\n",
        "%load_ext tensorboard\n",
        "\n",
        "# import the required libraries\n",
        "\n",
        "import tensorflow as tf\n",
        "import keras\n",
        "import numpy as np\n",
        "import matplotlib.pyplot as plt\n",
        "import shutil\n",
        "\n",
        "try:\n",
        "    shutil.rmtree('logs')\n",
        "except:\n",
        "    pass"
      ],
      "metadata": {
        "id": "Ox1rNBpptlW8"
      },
      "execution_count": null,
      "outputs": []
    },
    {
      "cell_type": "code",
      "source": [
        "# load the traning and testing data from the keras library\n",
        "\n",
        "(x_train, y_train), (x_test, y_test) = keras.datasets.mnist.load_data()"
      ],
      "metadata": {
        "id": "s4nM1P_Xt_Fd"
      },
      "execution_count": null,
      "outputs": []
    },
    {
      "cell_type": "code",
      "source": [
        "# This function will create noice in the grayscale images with the predominate colour as either red or blue\n",
        "\n",
        "def create_example(x, y):\n",
        "    # choise the predominant colour as random\n",
        "    c = np.random.randint(0, 2)\n",
        "\n",
        "    # create a image with noice\n",
        "    image = 0.5 * np.random.rand(28, 28, 3)\n",
        "\n",
        "    # add the grayscale image into the noice image\n",
        "    image[:, :, c] += 0.5 *x / 255\n",
        "    return image, y, c"
      ],
      "metadata": {
        "id": "Pex4d1k1uBq_"
      },
      "execution_count": null,
      "outputs": []
    },
    {
      "cell_type": "code",
      "source": [
        "# dictionary with colour information\n",
        "colors = {0: 'red', 1 : \"grean\"}\n",
        "\n",
        "# let's see an example\n",
        "x, y, c = create_example(x_train[1], y_train[1])\n",
        "print(f'digit : {y}, color: {colors[c]}')\n",
        "\n",
        "plt.imshow(x)\n",
        "plt.show()"
      ],
      "metadata": {
        "id": "4FeXBoV_uElT"
      },
      "execution_count": null,
      "outputs": []
    },
    {
      "cell_type": "code",
      "source": [
        "# This function will generate a batch at random\n",
        "# This is a generator function, each time it is call, it will generate a batch at random\n",
        "\n",
        "def generate_data(x, y, batch_size = 32):\n",
        "    num_examples = len(y)\n",
        "\n",
        "    while True :\n",
        "        x_batch = np.zeros((batch_size, 28, 28, 3))\n",
        "        y_batch = np.zeros((batch_size,))\n",
        "        c_batch = np.zeros((batch_size,))\n",
        "\n",
        "        for i in range(0, batch_size):\n",
        "            index = np.random.randint(0, num_examples)\n",
        "            image, digit, color = create_example(x[index], y[index])\n",
        "            x_batch[i] = image\n",
        "            y_batch[i] = digit\n",
        "            c_batch[i] = color\n",
        "\n",
        "        yield x_batch, [y_batch, c_batch]"
      ],
      "metadata": {
        "id": "AcPJ0Xx1uHjW"
      },
      "execution_count": null,
      "outputs": []
    },
    {
      "cell_type": "code",
      "source": [
        "# generate an example\n",
        "\n",
        "x, [y, c] = next(generate_data(x_test, y_test, 1))"
      ],
      "metadata": {
        "id": "OVaRkqYouLU0"
      },
      "execution_count": null,
      "outputs": []
    },
    {
      "cell_type": "code",
      "source": [
        "# show the result\n",
        "\n",
        "print(y,c)\n",
        "plt.imshow(x[0])"
      ],
      "metadata": {
        "id": "u0SpSoxjuNfm"
      },
      "execution_count": null,
      "outputs": []
    },
    {
      "cell_type": "code",
      "source": [
        "# import the required layers\n",
        "from tensorflow.keras.layers import Input, Conv2D, Activation, MaxPool2D, Flatten, Add, Dense\n",
        "\n",
        "# First the input layer\n",
        "input_ = Input(shape=(28,28,3), name = 'input')\n",
        "\n",
        "# First convolution layer\n",
        "conv_1 = Conv2D(32, 3,  name = 'conv_1')(input_)\n",
        "# activation layer\n",
        "act_1 = Activation('relu', name = 'act_1')(conv_1)\n",
        "\n",
        "# Maxpool layer\n",
        "pool_1 = MaxPool2D(4,name = 'pool_1')(act_1)\n",
        "# Flatten layer\n",
        "flat_1 = Flatten(name = 'flat_1')(pool_1)\n",
        "\n",
        "# First Output Layer\n",
        "color =  Dense(1,activation = 'sigmoid', name = 'color')(flat_1)\n",
        "\n",
        "# Second convolution layer\n",
        "conv_2 = Conv2D(32, 3, padding = 'same', name = 'conv_2')(act_1)\n",
        "# activation layer\n",
        "act_2 = Activation(\"relu\", name='act_2')(conv_2)\n",
        "\n",
        "# Third convolution layer\n",
        "conv_3 = Conv2D(32, 3, padding = 'same', name = 'conv_3')(act_2)\n",
        "\n",
        "# Add Layer :\n",
        "# connect the first convolution layer's output with the output of the thired convolution layer and add both.\n",
        "add = Add(name = 'add')([act_1, conv_3])\n",
        "\n",
        "# activation layer\n",
        "act_3 = Activation(\"relu\", name='act_3')(add)\n",
        "\n",
        "# maxpool layer\n",
        "pool_2 = MaxPool2D(4, name = 'pool_2')(act_3)\n",
        "# flatten layer\n",
        "flat_2 = Flatten(name = \"flat_2\")(pool_2)\n",
        "\n",
        "# Our Secound Output layers\n",
        "digit = Dense(10, activation = 'softmax', name = 'digit')(flat_2)\n",
        "\n",
        "# Create the model\n",
        "model = tf.keras.models.Model(input_, [digit, color])\n",
        "\n",
        "# Compile the model\n",
        "model.compile(\n",
        "              # since we have two output layer, we can define two loss function\n",
        "              loss = {\n",
        "                  'digit' : 'sparse_categorical_crossentropy',\n",
        "                  'color' : 'binary_crossentropy'\n",
        "              },\n",
        "              optimizer = 'adam',\n",
        "              metrics = ['accuracy']\n",
        ")\n",
        "\n",
        "# To view the model architecture\n",
        "model.summary()"
      ],
      "metadata": {
        "id": "EmI2UAV2uPhl"
      },
      "execution_count": null,
      "outputs": []
    },
    {
      "cell_type": "code",
      "source": [
        "# To View the neural network layout/connection\n",
        "\n",
        "tf.keras.utils.plot_model(model)"
      ],
      "metadata": {
        "id": "jVi8jfNHuYfF"
      },
      "execution_count": null,
      "outputs": []
    },
    {
      "cell_type": "code",
      "source": [
        "# Since we have two output layers, we have to use custom class to generate/print the log\n",
        "\n",
        "class Logger(tf.keras.callbacks.Callback):\n",
        "\n",
        "    def on_epoch_end(self, epoch, logs=None):\n",
        "        # get the output accuracy\n",
        "        digit_accuracy = logs.get('digit_accuracy')\n",
        "        color_accuracy = logs.get('color_accuracy')\n",
        "\n",
        "        # get the verbos accuracy\n",
        "        val_digit_accuracy = logs.get('val_digit_accuracy')\n",
        "        val_color_accuracy = logs.get('val_color_accuracy')\n",
        "\n",
        "        # print the log\n",
        "        print('='*30, epoch + 1, '='*30)\n",
        "        print(f'digit_accuracy: {digit_accuracy:.2f}, color_accuracy: {color_accuracy:.2f}')\n",
        "        print(f'val_digit_accuracy: {val_digit_accuracy:.2f}, val_color_accuracy: {val_color_accuracy:.2f}')"
      ],
      "metadata": {
        "id": "WXe3voKpubOm"
      },
      "execution_count": null,
      "outputs": []
    },
    {
      "source": [
        "# This function will generate a batch at random\n",
        "# This is a generator function, each time it is call, it will generate a batch at random\n",
        "\n",
        "def generate_data(x, y, batch_size = 32):\n",
        "    num_examples = len(y)\n",
        "\n",
        "    while True :\n",
        "        x_batch = np.zeros((batch_size, 28, 28, 3))\n",
        "        y_batch = np.zeros((batch_size,))\n",
        "        c_batch = np.zeros((batch_size,))\n",
        "\n",
        "        for i in range(0, batch_size):\n",
        "            index = np.random.randint(0, num_examples)\n",
        "            image, digit, color = create_example(x[index], y[index])\n",
        "            x_batch[i] = image\n",
        "            y_batch[i] = digit\n",
        "            c_batch[i] = color\n",
        "        # Change: Yield a tuple instead of a list for the labels\n",
        "        yield x_batch, (y_batch, c_batch)"
      ],
      "cell_type": "code",
      "metadata": {
        "id": "bwbvqbmPuo3m"
      },
      "execution_count": null,
      "outputs": []
    },
    {
      "cell_type": "code",
      "source": [
        "# this function will test the model on the test dataset\n",
        "\n",
        "def test_model(show=True):\n",
        "    # generate the test data (1 at a time)\n",
        "    x, [y, c] = next(test)\n",
        "\n",
        "    # predict the model on test batch\n",
        "    preds = model.predict(x)\n",
        "    pred_digit = np.argmax(preds[0])\n",
        "    pred_color = int(preds[1] > 0.5)\n",
        "\n",
        "    # actual output\n",
        "    gt_digit = int(y[0])\n",
        "    gt_color = int(c[0])\n",
        "\n",
        "    # show/display the image\n",
        "    plt.imshow(x[0])\n",
        "\n",
        "    if show:\n",
        "        print(f'GT: {gt_digit}, {colors[gt_color]}')\n",
        "        print(f'Pr: {pred_digit}, {colors[pred_color]}')\n",
        "        plt.show()\n",
        "    else:\n",
        "        # show with green colour if the prediction is correct\n",
        "        # show with red colour if the prediction is wrong\n",
        "        col = 'green' if gt_digit == pred_digit and gt_color == pred_color else 'red'\n",
        "        plt.ylabel(f'GT: {gt_digit}, {colors[gt_color]}', color=col)\n",
        "        plt.xlabel(f'Pr: {pred_digit}, {colors[pred_color]}', color=col)\n",
        "        plt.xticks([])\n",
        "        plt.yticks([])\n",
        "\n",
        "test = generate_data(x_test, y_test, batch_size=1)"
      ],
      "metadata": {
        "id": "Y24HUuqRui1_"
      },
      "execution_count": null,
      "outputs": []
    },
    {
      "cell_type": "code",
      "source": [
        "test_model()"
      ],
      "metadata": {
        "id": "cOHf_ScZuxVV"
      },
      "execution_count": null,
      "outputs": []
    },
    {
      "cell_type": "code",
      "source": [
        "# Generate in a 4x4 matrix\n",
        "\n",
        "plt.figure(figsize = (16,16))\n",
        "for i in range(16):\n",
        "    plt.subplot(4,4,i+1)\n",
        "    test_model(show = False)\n",
        "plt.show()"
      ],
      "metadata": {
        "id": "kJgku6CIuzoO"
      },
      "execution_count": null,
      "outputs": []
    },
    {
      "cell_type": "code",
      "source": [],
      "metadata": {
        "id": "QfzAilXCu3pe"
      },
      "execution_count": null,
      "outputs": []
    }
  ]
}